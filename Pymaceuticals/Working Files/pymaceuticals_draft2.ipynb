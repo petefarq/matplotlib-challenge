{
 "cells": [
  {
   "cell_type": "raw",
   "metadata": {},
   "source": [
    "Conclusions about the data:\n",
    "\n",
    "1) Caplomulin is clearly the superior drug of the four, reducing tumors by 19% over the study period and leading to an 84% survival rate. It was the only drug to actually reduce the tumor count.\n",
    "\n",
    "2) Ketapril and Infobinal were both weak treatments, with the posibility that they are actually net negatives--- Ketapril led to greater tumor growth than placebo, and Infobinal had lower survival rates than placebo.\n",
    "\n",
    "3) The standard error of the mean was large when tracking metastatic sites. Since the values for each mouse were limited to integers between zero and four, rather than a more gradual scale such as tumor count, the data was \"chunky\" and not as well described using mean values, especially for this relatively small sample size."
   ]
  },
  {
   "cell_type": "code",
   "execution_count": 2,
   "metadata": {},
   "outputs": [],
   "source": [
    "# Dependencies and Setup\n",
    "%matplotlib inline\n",
    "import matplotlib.pyplot as plt\n",
    "import pandas as pd\n",
    "import numpy as np\n",
    "\n"
   ]
  },
  {
   "cell_type": "code",
   "execution_count": 3,
   "metadata": {},
   "outputs": [
    {
     "data": {
      "text/html": [
       "<div>\n",
       "<style scoped>\n",
       "    .dataframe tbody tr th:only-of-type {\n",
       "        vertical-align: middle;\n",
       "    }\n",
       "\n",
       "    .dataframe tbody tr th {\n",
       "        vertical-align: top;\n",
       "    }\n",
       "\n",
       "    .dataframe thead th {\n",
       "        text-align: right;\n",
       "    }\n",
       "</style>\n",
       "<table border=\"1\" class=\"dataframe\">\n",
       "  <thead>\n",
       "    <tr style=\"text-align: right;\">\n",
       "      <th></th>\n",
       "      <th>Mouse ID</th>\n",
       "      <th>Drug</th>\n",
       "      <th>Timepoint</th>\n",
       "      <th>Tumor Volume (mm3)</th>\n",
       "      <th>Metastatic Sites</th>\n",
       "    </tr>\n",
       "  </thead>\n",
       "  <tbody>\n",
       "    <tr>\n",
       "      <td>0</td>\n",
       "      <td>q119</td>\n",
       "      <td>Ketapril</td>\n",
       "      <td>0</td>\n",
       "      <td>45.000000</td>\n",
       "      <td>0</td>\n",
       "    </tr>\n",
       "    <tr>\n",
       "      <td>1</td>\n",
       "      <td>q119</td>\n",
       "      <td>Ketapril</td>\n",
       "      <td>5</td>\n",
       "      <td>47.864440</td>\n",
       "      <td>0</td>\n",
       "    </tr>\n",
       "    <tr>\n",
       "      <td>2</td>\n",
       "      <td>q119</td>\n",
       "      <td>Ketapril</td>\n",
       "      <td>10</td>\n",
       "      <td>51.236606</td>\n",
       "      <td>0</td>\n",
       "    </tr>\n",
       "    <tr>\n",
       "      <td>3</td>\n",
       "      <td>n923</td>\n",
       "      <td>Ketapril</td>\n",
       "      <td>0</td>\n",
       "      <td>45.000000</td>\n",
       "      <td>0</td>\n",
       "    </tr>\n",
       "    <tr>\n",
       "      <td>4</td>\n",
       "      <td>n923</td>\n",
       "      <td>Ketapril</td>\n",
       "      <td>5</td>\n",
       "      <td>45.824881</td>\n",
       "      <td>0</td>\n",
       "    </tr>\n",
       "  </tbody>\n",
       "</table>\n",
       "</div>"
      ],
      "text/plain": [
       "  Mouse ID      Drug  Timepoint  Tumor Volume (mm3)  Metastatic Sites\n",
       "0     q119  Ketapril          0           45.000000                 0\n",
       "1     q119  Ketapril          5           47.864440                 0\n",
       "2     q119  Ketapril         10           51.236606                 0\n",
       "3     n923  Ketapril          0           45.000000                 0\n",
       "4     n923  Ketapril          5           45.824881                 0"
      ]
     },
     "execution_count": 3,
     "metadata": {},
     "output_type": "execute_result"
    }
   ],
   "source": [
    "# File to Load\n",
    "mouse_data_to_load = \"data/mouse_drug_data.csv\"\n",
    "trial_data_to_load = \"data/clinicaltrial_data.csv\"\n",
    "\n",
    "mouse_data = pd.read_csv(mouse_data_to_load)\n",
    "trial_data = pd.read_csv(trial_data_to_load)\n",
    "\n",
    "drug_list = [\"Capomulin\",\"Infubinol\",\"Ketapril\",\"Placebo\"]\n",
    "mouse_data_filtered = mouse_data.loc[mouse_data['Drug'].isin(drug_list)]\n",
    "\n",
    "alldata = pd.merge(mouse_data_filtered, trial_data, how='inner',on=\"Mouse ID\")\n",
    "\n",
    "alldata.head(5)"
   ]
  },
  {
   "cell_type": "markdown",
   "metadata": {},
   "source": [
    "## Tumor Response to Treatment"
   ]
  },
  {
   "cell_type": "code",
   "execution_count": 18,
   "metadata": {
    "scrolled": false
   },
   "outputs": [
    {
     "data": {
      "text/html": [
       "<div>\n",
       "<style scoped>\n",
       "    .dataframe tbody tr th:only-of-type {\n",
       "        vertical-align: middle;\n",
       "    }\n",
       "\n",
       "    .dataframe tbody tr th {\n",
       "        vertical-align: top;\n",
       "    }\n",
       "\n",
       "    .dataframe thead th {\n",
       "        text-align: right;\n",
       "    }\n",
       "</style>\n",
       "<table border=\"1\" class=\"dataframe\">\n",
       "  <thead>\n",
       "    <tr style=\"text-align: right;\">\n",
       "      <th></th>\n",
       "      <th>Drug</th>\n",
       "      <th>Timepoint</th>\n",
       "      <th>Tumor Vol Avg</th>\n",
       "      <th>Tumor Vol Standard Err</th>\n",
       "      <th>Metastatic Sites Avg</th>\n",
       "      <th>Metastatic Sites Standard Err</th>\n",
       "      <th>Survival Rate</th>\n",
       "    </tr>\n",
       "  </thead>\n",
       "  <tbody>\n",
       "    <tr>\n",
       "      <td>0</td>\n",
       "      <td>Capomulin</td>\n",
       "      <td>0</td>\n",
       "      <td>45.000000</td>\n",
       "      <td>0.000000</td>\n",
       "      <td>0.000000</td>\n",
       "      <td>0.000000</td>\n",
       "      <td>100.0</td>\n",
       "    </tr>\n",
       "    <tr>\n",
       "      <td>1</td>\n",
       "      <td>Capomulin</td>\n",
       "      <td>5</td>\n",
       "      <td>44.266086</td>\n",
       "      <td>0.448593</td>\n",
       "      <td>0.160000</td>\n",
       "      <td>0.074833</td>\n",
       "      <td>100.0</td>\n",
       "    </tr>\n",
       "    <tr>\n",
       "      <td>2</td>\n",
       "      <td>Capomulin</td>\n",
       "      <td>10</td>\n",
       "      <td>43.084291</td>\n",
       "      <td>0.702684</td>\n",
       "      <td>0.320000</td>\n",
       "      <td>0.125433</td>\n",
       "      <td>100.0</td>\n",
       "    </tr>\n",
       "    <tr>\n",
       "      <td>3</td>\n",
       "      <td>Capomulin</td>\n",
       "      <td>15</td>\n",
       "      <td>42.064317</td>\n",
       "      <td>0.838617</td>\n",
       "      <td>0.375000</td>\n",
       "      <td>0.132048</td>\n",
       "      <td>96.0</td>\n",
       "    </tr>\n",
       "    <tr>\n",
       "      <td>4</td>\n",
       "      <td>Capomulin</td>\n",
       "      <td>20</td>\n",
       "      <td>40.716325</td>\n",
       "      <td>0.909731</td>\n",
       "      <td>0.652174</td>\n",
       "      <td>0.161621</td>\n",
       "      <td>92.0</td>\n",
       "    </tr>\n",
       "    <tr>\n",
       "      <td>5</td>\n",
       "      <td>Capomulin</td>\n",
       "      <td>25</td>\n",
       "      <td>39.939528</td>\n",
       "      <td>0.881642</td>\n",
       "      <td>0.818182</td>\n",
       "      <td>0.181818</td>\n",
       "      <td>88.0</td>\n",
       "    </tr>\n",
       "    <tr>\n",
       "      <td>6</td>\n",
       "      <td>Capomulin</td>\n",
       "      <td>30</td>\n",
       "      <td>38.769339</td>\n",
       "      <td>0.934460</td>\n",
       "      <td>1.090909</td>\n",
       "      <td>0.172944</td>\n",
       "      <td>88.0</td>\n",
       "    </tr>\n",
       "    <tr>\n",
       "      <td>7</td>\n",
       "      <td>Capomulin</td>\n",
       "      <td>35</td>\n",
       "      <td>37.816839</td>\n",
       "      <td>1.052241</td>\n",
       "      <td>1.181818</td>\n",
       "      <td>0.169496</td>\n",
       "      <td>88.0</td>\n",
       "    </tr>\n",
       "    <tr>\n",
       "      <td>8</td>\n",
       "      <td>Capomulin</td>\n",
       "      <td>40</td>\n",
       "      <td>36.958001</td>\n",
       "      <td>1.223608</td>\n",
       "      <td>1.380952</td>\n",
       "      <td>0.175610</td>\n",
       "      <td>84.0</td>\n",
       "    </tr>\n",
       "    <tr>\n",
       "      <td>9</td>\n",
       "      <td>Capomulin</td>\n",
       "      <td>45</td>\n",
       "      <td>36.236114</td>\n",
       "      <td>1.223977</td>\n",
       "      <td>1.476190</td>\n",
       "      <td>0.202591</td>\n",
       "      <td>84.0</td>\n",
       "    </tr>\n",
       "  </tbody>\n",
       "</table>\n",
       "</div>"
      ],
      "text/plain": [
       "        Drug  Timepoint  Tumor Vol Avg  Tumor Vol Standard Err  \\\n",
       "0  Capomulin          0      45.000000                0.000000   \n",
       "1  Capomulin          5      44.266086                0.448593   \n",
       "2  Capomulin         10      43.084291                0.702684   \n",
       "3  Capomulin         15      42.064317                0.838617   \n",
       "4  Capomulin         20      40.716325                0.909731   \n",
       "5  Capomulin         25      39.939528                0.881642   \n",
       "6  Capomulin         30      38.769339                0.934460   \n",
       "7  Capomulin         35      37.816839                1.052241   \n",
       "8  Capomulin         40      36.958001                1.223608   \n",
       "9  Capomulin         45      36.236114                1.223977   \n",
       "\n",
       "   Metastatic Sites Avg  Metastatic Sites Standard Err  Survival Rate  \n",
       "0              0.000000                       0.000000          100.0  \n",
       "1              0.160000                       0.074833          100.0  \n",
       "2              0.320000                       0.125433          100.0  \n",
       "3              0.375000                       0.132048           96.0  \n",
       "4              0.652174                       0.161621           92.0  \n",
       "5              0.818182                       0.181818           88.0  \n",
       "6              1.090909                       0.172944           88.0  \n",
       "7              1.181818                       0.169496           88.0  \n",
       "8              1.380952                       0.175610           84.0  \n",
       "9              1.476190                       0.202591           84.0  "
      ]
     },
     "execution_count": 18,
     "metadata": {},
     "output_type": "execute_result"
    }
   ],
   "source": [
    "# Store the Mean Tumor Volume Data Grouped by Drug and Timepoint \n",
    "\n",
    "drug_grouped = alldata.groupby(['Drug','Timepoint'])\n",
    "\n",
    "tumor_vol_avg = drug_grouped[\"Tumor Volume (mm3)\"].mean()\n",
    "tumor_vol_sem = drug_grouped[\"Tumor Volume (mm3)\"].sem()\n",
    "metastatic_avg = drug_grouped[\"Metastatic Sites\"].mean()\n",
    "metastatic_sem = drug_grouped[\"Metastatic Sites\"].sem()\n",
    "count = drug_grouped[\"Mouse ID\"].count()\n",
    "\n",
    "# Convert to DataFrame\n",
    "                                                          \n",
    "drug_grouped_df = pd.DataFrame({\"Tumor Vol Avg\":tumor_vol_avg,\n",
    "                                \"Tumor Vol Standard Err\":tumor_vol_sem,\n",
    "                                \"Metastatic Sites Avg\":metastatic_avg,\n",
    "                                \"Metastatic Sites Standard Err\":metastatic_sem,\n",
    "                                \"Survival Rate\":((count/25)*100)\n",
    "                               })\n",
    "\n",
    "drug_grouped_df = drug_grouped_df.reset_index()\n",
    "\n",
    "# Preview DataFrame\n",
    "drug_grouped_df.head(10)                                             \n"
   ]
  },
  {
   "cell_type": "code",
   "execution_count": 19,
   "metadata": {},
   "outputs": [
    {
     "data": {
      "text/plain": [
       "Text(0, 0.5, 'Average Tumor Volume (mm3)')"
      ]
     },
     "execution_count": 19,
     "metadata": {},
     "output_type": "execute_result"
    },
    {
     "data": {
      "image/png": "[encoded data removed]",
      "text/plain": [
       "<Figure size 1080x720 with 1 Axes>"
      ]
     },
     "metadata": {
      "needs_background": "light"
     },
     "output_type": "display_data"
    }
   ],
   "source": [
    "\n",
    "\n",
    "capomulin_df = drug_grouped_df[drug_grouped_df[\"Drug\"] == \"Capomulin\"]\n",
    "infobinal_df = drug_grouped_df[drug_grouped_df[\"Drug\"] == \"Infubinol\"] \n",
    "ketapril_df = drug_grouped_df[drug_grouped_df[\"Drug\"] == \"Ketapril\"] \n",
    "placebo_df = drug_grouped_df[drug_grouped_df[\"Drug\"] == \"Placebo\"] \n",
    "\n",
    "fig, ax = plt.subplots() \n",
    "\n",
    "ax.errorbar(capomulin_df[\"Timepoint\"],capomulin_df[\"Tumor Vol Avg\"], yerr=capomulin_df[\"Tumor Vol Standard Err\"], fmt= \"o\", color = \"blue\", label = \"Capomulin\", alpha=0.5)\n",
    "ax.errorbar(infobinal_df[\"Timepoint\"],infobinal_df[\"Tumor Vol Avg\"], yerr=infobinal_df[\"Tumor Vol Standard Err\"], fmt= \"s\", color = \"red\", label = \"Infobinal\", alpha=0.5)   \n",
    "ax.errorbar(ketapril_df[\"Timepoint\"],ketapril_df[\"Tumor Vol Avg\"], yerr=ketapril_df[\"Tumor Vol Standard Err\"], fmt= \"X\", color = \"purple\", label = \"Ketapril\", alpha=0.5) \n",
    "ax.errorbar(placebo_df[\"Timepoint\"],placebo_df[\"Tumor Vol Avg\"], yerr=placebo_df[\"Tumor Vol Standard Err\"], fmt= \"^\", color = \"green\", label = \"Placebo\", alpha=0.5) \n",
    "\n",
    "# This sets size-- .gcf refers to the current plt instance\n",
    "plt.gcf().set_size_inches(15, 10)\n",
    "\n",
    "plt.legend(loc=\"best\")\n",
    "plt.grid(True)\n",
    "plt.title(\"Tumor Response To Treatment\")\n",
    "plt.xlabel(\"Timepoint (days)\")\n",
    "plt.ylabel(\"Average Tumor Volume (mm3)\")"
   ]
  },
  {
   "cell_type": "markdown",
   "metadata": {},
   "source": [
    "## Metastatic Response to Treatment"
   ]
  },
  {
   "cell_type": "code",
   "execution_count": 20,
   "metadata": {
    "scrolled": true
   },
   "outputs": [
    {
     "data": {
      "text/plain": [
       "Text(0, 0.5, 'Average Metastatic Sites')"
      ]
     },
     "execution_count": 20,
     "metadata": {},
     "output_type": "execute_result"
    },
    {
     "data": {
      "image/png": "[encoded data removed]",
      "text/plain": [
       "<Figure size 1080x720 with 1 Axes>"
      ]
     },
     "metadata": {
      "needs_background": "light"
     },
     "output_type": "display_data"
    }
   ],
   "source": [
    "fig, ax = plt.subplots() \n",
    "\n",
    "ax.errorbar(capomulin_df[\"Timepoint\"],capomulin_df[\"Metastatic Sites Avg\"], yerr=capomulin_df[\"Metastatic Sites Standard Err\"], fmt= \"o\", color = \"blue\", label = \"Capomulin\", alpha=0.5)\n",
    "ax.errorbar(infobinal_df[\"Timepoint\"],infobinal_df[\"Metastatic Sites Avg\"], yerr=infobinal_df[\"Metastatic Sites Standard Err\"], fmt= \"s\", color = \"red\", label = \"Infobinal\", alpha=0.5)   \n",
    "ax.errorbar(ketapril_df[\"Timepoint\"],ketapril_df[\"Metastatic Sites Avg\"], yerr=ketapril_df[\"Metastatic Sites Standard Err\"], fmt= \"X\", color = \"purple\", label = \"Ketapril\", alpha=0.5) \n",
    "ax.errorbar(placebo_df[\"Timepoint\"],placebo_df[\"Metastatic Sites Avg\"], yerr=placebo_df[\"Metastatic Sites Standard Err\"], fmt= \"^\", color = \"green\", label = \"Placebo\", alpha=0.5) \n",
    "\n",
    "# This sets size-- .gcf refers to the current plt instance\n",
    "plt.gcf().set_size_inches(15, 10)\n",
    "\n",
    "plt.legend(loc=\"best\")\n",
    "plt.grid(True)\n",
    "plt.title(\"Metastatic Sites Response To Treatment\")\n",
    "plt.xlabel(\"Timepoint (days)\")\n",
    "plt.ylabel(\"Average Metastatic Sites\")"
   ]
  },
  {
   "cell_type": "markdown",
   "metadata": {},
   "source": [
    "## Survival Rates"
   ]
  },
  {
   "cell_type": "code",
   "execution_count": 21,
   "metadata": {},
   "outputs": [
    {
     "data": {
      "text/plain": [
       "Text(0, 0.5, 'Survival Rate (%)')"
      ]
     },
     "execution_count": 21,
     "metadata": {},
     "output_type": "execute_result"
    },
    {
     "data": {
      "image/png": "[encoded data removed]",
      "text/plain": [
       "<Figure size 1080x720 with 1 Axes>"
      ]
     },
     "metadata": {
      "needs_background": "light"
     },
     "output_type": "display_data"
    }
   ],
   "source": [
    "plt.scatter(capomulin_df[\"Timepoint\"],capomulin_df[\"Survival Rate\"], marker= \"o\", color = \"blue\", label = \"Capomulin\", alpha=0.5)\n",
    "plt.scatter(infobinal_df[\"Timepoint\"],infobinal_df[\"Survival Rate\"], marker= \"s\", color = \"red\", label = \"Infobinal\", alpha=0.5)   \n",
    "plt.scatter(ketapril_df[\"Timepoint\"],ketapril_df[\"Survival Rate\"], marker= \"X\", color = \"purple\", label = \"Ketapril\", alpha=0.5) \n",
    "plt.scatter(placebo_df[\"Timepoint\"],placebo_df[\"Survival Rate\"], marker= \"^\", color = \"green\", label = \"Placebo\", alpha=0.5) \n",
    "\n",
    "# This sets size-- .gcf refers to the current plt instance\n",
    "plt.gcf().set_size_inches(15, 10)\n",
    "\n",
    "plt.legend(loc=\"best\")\n",
    "plt.grid(True)\n",
    "plt.title(\"Survival Rate Over Time\")\n",
    "plt.xlabel(\"Timepoint (days)\")\n",
    "plt.ylabel(\"Survival Rate (%)\")"
   ]
  },
  {
   "cell_type": "markdown",
   "metadata": {},
   "source": [
    "## Summary Bar Graph"
   ]
  },
  {
   "cell_type": "code",
   "execution_count": 22,
   "metadata": {},
   "outputs": [
    {
     "data": {
      "text/html": [
       "<div>\n",
       "<style scoped>\n",
       "    .dataframe tbody tr th:only-of-type {\n",
       "        vertical-align: middle;\n",
       "    }\n",
       "\n",
       "    .dataframe tbody tr th {\n",
       "        vertical-align: top;\n",
       "    }\n",
       "\n",
       "    .dataframe thead th {\n",
       "        text-align: right;\n",
       "    }\n",
       "</style>\n",
       "<table border=\"1\" class=\"dataframe\">\n",
       "  <thead>\n",
       "    <tr style=\"text-align: right;\">\n",
       "      <th></th>\n",
       "      <th>Drug</th>\n",
       "      <th>Timepoint</th>\n",
       "      <th>Tumor Vol Avg</th>\n",
       "      <th>Tumor Vol Standard Err</th>\n",
       "      <th>Metastatic Sites Avg</th>\n",
       "      <th>Metastatic Sites Standard Err</th>\n",
       "      <th>Survival Rate</th>\n",
       "    </tr>\n",
       "  </thead>\n",
       "  <tbody>\n",
       "    <tr>\n",
       "      <td>0</td>\n",
       "      <td>Capomulin</td>\n",
       "      <td>0</td>\n",
       "      <td>45.000000</td>\n",
       "      <td>0.000000</td>\n",
       "      <td>0.000000</td>\n",
       "      <td>0.000000</td>\n",
       "      <td>100.0</td>\n",
       "    </tr>\n",
       "    <tr>\n",
       "      <td>1</td>\n",
       "      <td>Capomulin</td>\n",
       "      <td>5</td>\n",
       "      <td>44.266086</td>\n",
       "      <td>0.448593</td>\n",
       "      <td>0.160000</td>\n",
       "      <td>0.074833</td>\n",
       "      <td>100.0</td>\n",
       "    </tr>\n",
       "    <tr>\n",
       "      <td>2</td>\n",
       "      <td>Capomulin</td>\n",
       "      <td>10</td>\n",
       "      <td>43.084291</td>\n",
       "      <td>0.702684</td>\n",
       "      <td>0.320000</td>\n",
       "      <td>0.125433</td>\n",
       "      <td>100.0</td>\n",
       "    </tr>\n",
       "    <tr>\n",
       "      <td>3</td>\n",
       "      <td>Capomulin</td>\n",
       "      <td>15</td>\n",
       "      <td>42.064317</td>\n",
       "      <td>0.838617</td>\n",
       "      <td>0.375000</td>\n",
       "      <td>0.132048</td>\n",
       "      <td>96.0</td>\n",
       "    </tr>\n",
       "    <tr>\n",
       "      <td>4</td>\n",
       "      <td>Capomulin</td>\n",
       "      <td>20</td>\n",
       "      <td>40.716325</td>\n",
       "      <td>0.909731</td>\n",
       "      <td>0.652174</td>\n",
       "      <td>0.161621</td>\n",
       "      <td>92.0</td>\n",
       "    </tr>\n",
       "    <tr>\n",
       "      <td>5</td>\n",
       "      <td>Capomulin</td>\n",
       "      <td>25</td>\n",
       "      <td>39.939528</td>\n",
       "      <td>0.881642</td>\n",
       "      <td>0.818182</td>\n",
       "      <td>0.181818</td>\n",
       "      <td>88.0</td>\n",
       "    </tr>\n",
       "    <tr>\n",
       "      <td>6</td>\n",
       "      <td>Capomulin</td>\n",
       "      <td>30</td>\n",
       "      <td>38.769339</td>\n",
       "      <td>0.934460</td>\n",
       "      <td>1.090909</td>\n",
       "      <td>0.172944</td>\n",
       "      <td>88.0</td>\n",
       "    </tr>\n",
       "    <tr>\n",
       "      <td>7</td>\n",
       "      <td>Capomulin</td>\n",
       "      <td>35</td>\n",
       "      <td>37.816839</td>\n",
       "      <td>1.052241</td>\n",
       "      <td>1.181818</td>\n",
       "      <td>0.169496</td>\n",
       "      <td>88.0</td>\n",
       "    </tr>\n",
       "    <tr>\n",
       "      <td>8</td>\n",
       "      <td>Capomulin</td>\n",
       "      <td>40</td>\n",
       "      <td>36.958001</td>\n",
       "      <td>1.223608</td>\n",
       "      <td>1.380952</td>\n",
       "      <td>0.175610</td>\n",
       "      <td>84.0</td>\n",
       "    </tr>\n",
       "    <tr>\n",
       "      <td>9</td>\n",
       "      <td>Capomulin</td>\n",
       "      <td>45</td>\n",
       "      <td>36.236114</td>\n",
       "      <td>1.223977</td>\n",
       "      <td>1.476190</td>\n",
       "      <td>0.202591</td>\n",
       "      <td>84.0</td>\n",
       "    </tr>\n",
       "  </tbody>\n",
       "</table>\n",
       "</div>"
      ],
      "text/plain": [
       "        Drug  Timepoint  Tumor Vol Avg  Tumor Vol Standard Err  \\\n",
       "0  Capomulin          0      45.000000                0.000000   \n",
       "1  Capomulin          5      44.266086                0.448593   \n",
       "2  Capomulin         10      43.084291                0.702684   \n",
       "3  Capomulin         15      42.064317                0.838617   \n",
       "4  Capomulin         20      40.716325                0.909731   \n",
       "5  Capomulin         25      39.939528                0.881642   \n",
       "6  Capomulin         30      38.769339                0.934460   \n",
       "7  Capomulin         35      37.816839                1.052241   \n",
       "8  Capomulin         40      36.958001                1.223608   \n",
       "9  Capomulin         45      36.236114                1.223977   \n",
       "\n",
       "   Metastatic Sites Avg  Metastatic Sites Standard Err  Survival Rate  \n",
       "0              0.000000                       0.000000          100.0  \n",
       "1              0.160000                       0.074833          100.0  \n",
       "2              0.320000                       0.125433          100.0  \n",
       "3              0.375000                       0.132048           96.0  \n",
       "4              0.652174                       0.161621           92.0  \n",
       "5              0.818182                       0.181818           88.0  \n",
       "6              1.090909                       0.172944           88.0  \n",
       "7              1.181818                       0.169496           88.0  \n",
       "8              1.380952                       0.175610           84.0  \n",
       "9              1.476190                       0.202591           84.0  "
      ]
     },
     "execution_count": 22,
     "metadata": {},
     "output_type": "execute_result"
    }
   ],
   "source": [
    "capomulin_df.head(30)"
   ]
  },
  {
   "cell_type": "code",
   "execution_count": 23,
   "metadata": {},
   "outputs": [
    {
     "data": {
      "text/html": [
       "<div>\n",
       "<style scoped>\n",
       "    .dataframe tbody tr th:only-of-type {\n",
       "        vertical-align: middle;\n",
       "    }\n",
       "\n",
       "    .dataframe tbody tr th {\n",
       "        vertical-align: top;\n",
       "    }\n",
       "\n",
       "    .dataframe thead th {\n",
       "        text-align: right;\n",
       "    }\n",
       "</style>\n",
       "<table border=\"1\" class=\"dataframe\">\n",
       "  <thead>\n",
       "    <tr style=\"text-align: right;\">\n",
       "      <th></th>\n",
       "      <th>% Change in Tumors</th>\n",
       "      <th>colors</th>\n",
       "    </tr>\n",
       "  </thead>\n",
       "  <tbody>\n",
       "    <tr>\n",
       "      <td>Capomulin</td>\n",
       "      <td>-19.475303</td>\n",
       "      <td>g</td>\n",
       "    </tr>\n",
       "    <tr>\n",
       "      <td>Infubinol</td>\n",
       "      <td>46.123472</td>\n",
       "      <td>r</td>\n",
       "    </tr>\n",
       "    <tr>\n",
       "      <td>Ketapril</td>\n",
       "      <td>57.028795</td>\n",
       "      <td>r</td>\n",
       "    </tr>\n",
       "    <tr>\n",
       "      <td>Placebo</td>\n",
       "      <td>51.297960</td>\n",
       "      <td>r</td>\n",
       "    </tr>\n",
       "  </tbody>\n",
       "</table>\n",
       "</div>"
      ],
      "text/plain": [
       "           % Change in Tumors colors\n",
       "Capomulin          -19.475303      g\n",
       "Infubinol           46.123472      r\n",
       "Ketapril            57.028795      r\n",
       "Placebo             51.297960      r"
      ]
     },
     "execution_count": 23,
     "metadata": {},
     "output_type": "execute_result"
    }
   ],
   "source": [
    "c_change = ((capomulin_df.iloc[9,2] - capomulin_df.iloc[0,2])/capomulin_df.iloc[0,2])*100\n",
    "i_change = ((infobinal_df.iloc[9,2] - infobinal_df.iloc[0,2])/infobinal_df.iloc[0,2])*100\n",
    "k_change = ((ketapril_df.iloc[9,2] - ketapril_df.iloc[0,2])/ketapril_df.iloc[0,2])*100\n",
    "p_change = ((placebo_df.iloc[9,2] - placebo_df.iloc[0,2])/placebo_df.iloc[0,2])*100\n",
    "\n",
    "tumor_change = [c_change, i_change, k_change, p_change]\n",
    "tumor_bar_df = pd.DataFrame(tumor_change, columns=['% Change in Tumors'], index=drug_list)\n",
    "tumor_bar_df['colors'] = 'r'\n",
    "tumor_bar_df.loc[tumor_bar_df['% Change in Tumors']<=0,'colors'] = 'g'\n",
    "\n",
    "tumor_bar_df.head()"
   ]
  },
  {
   "cell_type": "code",
   "execution_count": 24,
   "metadata": {
    "scrolled": true
   },
   "outputs": [
    {
     "data": {
      "text/plain": [
       "(-34.47530266789417, 72.02879468660608)"
      ]
     },
     "execution_count": 24,
     "metadata": {},
     "output_type": "execute_result"
    },
    {
     "data": {
      "image/png": "[encoded data removed]",
      "text/plain": [
       "<Figure size 504x360 with 1 Axes>"
      ]
     },
     "metadata": {
      "needs_background": "light"
     },
     "output_type": "display_data"
    }
   ],
   "source": [
    "fig, ax = plt.subplots()\n",
    "rects = ax.bar(tumor_bar_df.index, tumor_bar_df['% Change in Tumors'], color=tumor_bar_df['colors'])\n",
    "\n",
    "\n",
    "# add some text for labels, title and axes ticks\n",
    "ax.set_ylabel(\"% Change in Number of Tumors\")\n",
    "ax.set_xlabel(\"Drug\")\n",
    "ax.set_title(\"Percent Change in Tumors\")\n",
    "\n",
    "plt.gcf().set_size_inches(7, 5)\n",
    "plt.grid(True, axis = 'y')\n",
    "plt.ylim((min(tumor_bar_df['% Change in Tumors'])-15), (max(tumor_bar_df['% Change in Tumors'])+15))\n",
    "\n",
    "\n",
    "def autolabel(rects, ax):\n",
    "    \n",
    "    # Get y-axis height to calculate label position from.\n",
    "    (y_bottom, y_top) = ax.get_ylim()\n",
    "    y_height = y_top - y_bottom\n",
    "    \n",
    "    for rect in rects:\n",
    "        height = rect.get_height()\n",
    "        label_position = (height + (y_height * 0.01)) if height >= 0  else (height - (y_height * 0.05))\n",
    "\n",
    "        ax.text(rect.get_x() + rect.get_width()/2., label_position,\n",
    "                '%d' % int(height),\n",
    "                ha='center', va='bottom')\n",
    "\n",
    "autolabel(rects, ax)\n",
    "\n",
    "plt.ylim((min(tumor_bar_df['% Change in Tumors'])-15), (max(tumor_bar_df['% Change in Tumors'])+15))\n",
    "\n",
    "\n",
    "\n"
   ]
  },
  {
   "cell_type": "code",
   "execution_count": null,
   "metadata": {},
   "outputs": [],
   "source": []
  }
 ],
 "metadata": {
  "anaconda-cloud": {},
  "kernelspec": {
   "display_name": "Python 3",
   "language": "python",
   "name": "python3"
  },
  "language_info": {
   "codemirror_mode": {
    "name": "ipython",
    "version": 3
   },
   "file_extension": ".py",
   "mimetype": "text/x-python",
   "name": "python",
   "nbconvert_exporter": "python",
   "pygments_lexer": "ipython3",
   "version": "3.6.9"
  }
 },
 "nbformat": 4,
 "nbformat_minor": 1
}
